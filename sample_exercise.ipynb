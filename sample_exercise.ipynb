{
 "cells": [
  {
   "cell_type": "code",
   "execution_count": 20,
   "id": "a7915e49",
   "metadata": {},
   "outputs": [],
   "source": [
    "import pandas as pd"
   ]
  },
  {
   "cell_type": "code",
   "execution_count": 21,
   "id": "a6a05a92",
   "metadata": {},
   "outputs": [],
   "source": [
    "trial_balance = pd.read_csv(\"trial_balance.csv\")"
   ]
  },
  {
   "cell_type": "code",
   "execution_count": 22,
   "id": "727450df",
   "metadata": {},
   "outputs": [
    {
     "data": {
      "text/html": [
       "<div>\n",
       "<style scoped>\n",
       "    .dataframe tbody tr th:only-of-type {\n",
       "        vertical-align: middle;\n",
       "    }\n",
       "\n",
       "    .dataframe tbody tr th {\n",
       "        vertical-align: top;\n",
       "    }\n",
       "\n",
       "    .dataframe thead th {\n",
       "        text-align: right;\n",
       "    }\n",
       "</style>\n",
       "<table border=\"1\" class=\"dataframe\">\n",
       "  <thead>\n",
       "    <tr style=\"text-align: right;\">\n",
       "      <th></th>\n",
       "      <th>acct_num</th>\n",
       "      <th>acct_type</th>\n",
       "      <th>acct_name</th>\n",
       "      <th>acct_balance</th>\n",
       "    </tr>\n",
       "  </thead>\n",
       "  <tbody>\n",
       "    <tr>\n",
       "      <th>0</th>\n",
       "      <td>1000</td>\n",
       "      <td>Current Assets</td>\n",
       "      <td>Accounts Receivable - 30 Days</td>\n",
       "      <td>1111</td>\n",
       "    </tr>\n",
       "    <tr>\n",
       "      <th>1</th>\n",
       "      <td>1002</td>\n",
       "      <td>Current Assets</td>\n",
       "      <td>Short Term Investments</td>\n",
       "      <td>1226</td>\n",
       "    </tr>\n",
       "    <tr>\n",
       "      <th>2</th>\n",
       "      <td>1004</td>\n",
       "      <td>Current Assets</td>\n",
       "      <td>Inventory</td>\n",
       "      <td>1785</td>\n",
       "    </tr>\n",
       "    <tr>\n",
       "      <th>3</th>\n",
       "      <td>1006</td>\n",
       "      <td>Current Assets</td>\n",
       "      <td>Accounts Receviable - 90 Days</td>\n",
       "      <td>1800</td>\n",
       "    </tr>\n",
       "    <tr>\n",
       "      <th>4</th>\n",
       "      <td>1008</td>\n",
       "      <td>Current Assets</td>\n",
       "      <td>High Interest Cash Account</td>\n",
       "      <td>786</td>\n",
       "    </tr>\n",
       "  </tbody>\n",
       "</table>\n",
       "</div>"
      ],
      "text/plain": [
       "   acct_num       acct_type                      acct_name  acct_balance\n",
       "0      1000  Current Assets  Accounts Receivable - 30 Days          1111\n",
       "1      1002  Current Assets         Short Term Investments          1226\n",
       "2      1004  Current Assets                      Inventory          1785\n",
       "3      1006  Current Assets  Accounts Receviable - 90 Days          1800\n",
       "4      1008  Current Assets     High Interest Cash Account           786"
      ]
     },
     "execution_count": 22,
     "metadata": {},
     "output_type": "execute_result"
    }
   ],
   "source": [
    "trial_balance.head()"
   ]
  },
  {
   "cell_type": "markdown",
   "id": "1e4b75b9",
   "metadata": {},
   "source": [
    "# Trial Balance Exploration\n",
    "This exercise would be part of Lesson 3.1: Summary Methods"
   ]
  },
  {
   "cell_type": "markdown",
   "id": "50131510",
   "metadata": {},
   "source": [
    "## Determine the total number of accounts in the trial balance."
   ]
  },
  {
   "cell_type": "code",
   "execution_count": 23,
   "id": "cf2e35e4",
   "metadata": {},
   "outputs": [
    {
     "data": {
      "text/plain": [
       "85"
      ]
     },
     "execution_count": 23,
     "metadata": {},
     "output_type": "execute_result"
    }
   ],
   "source": [
    "#Assume that each account is represented by one row in the trial balance\n",
    "trial_balance[\"acct_balance\"].count()"
   ]
  },
  {
   "cell_type": "markdown",
   "id": "010f406f",
   "metadata": {},
   "source": [
    "## Calculate the dollar value of total revenues."
   ]
  },
  {
   "cell_type": "code",
   "execution_count": 24,
   "id": "d5fc101a",
   "metadata": {},
   "outputs": [
    {
     "data": {
      "text/plain": [
       "15312"
      ]
     },
     "execution_count": 24,
     "metadata": {},
     "output_type": "execute_result"
    }
   ],
   "source": [
    "#We've used a boolean mask create a new DataFrame which only contains the revenue accounts:\n",
    "revenues = trial_balance[trial_balance[\"acct_type\"]== \"Revenue\"]\n",
    "#Sum up the total account balances for these revenue accounts\n",
    "revenues[\"acct_balance\"].sum()"
   ]
  },
  {
   "cell_type": "markdown",
   "id": "1cb20fe2",
   "metadata": {},
   "source": [
    "## Calculate the total dollar value for each account type."
   ]
  },
  {
   "cell_type": "code",
   "execution_count": 25,
   "id": "781755f5",
   "metadata": {},
   "outputs": [
    {
     "data": {
      "text/html": [
       "<div>\n",
       "<style scoped>\n",
       "    .dataframe tbody tr th:only-of-type {\n",
       "        vertical-align: middle;\n",
       "    }\n",
       "\n",
       "    .dataframe tbody tr th {\n",
       "        vertical-align: top;\n",
       "    }\n",
       "\n",
       "    .dataframe thead th {\n",
       "        text-align: right;\n",
       "    }\n",
       "</style>\n",
       "<table border=\"1\" class=\"dataframe\">\n",
       "  <thead>\n",
       "    <tr style=\"text-align: right;\">\n",
       "      <th></th>\n",
       "      <th>acct_num</th>\n",
       "      <th>acct_balance</th>\n",
       "    </tr>\n",
       "    <tr>\n",
       "      <th>acct_type</th>\n",
       "      <th></th>\n",
       "      <th></th>\n",
       "    </tr>\n",
       "  </thead>\n",
       "  <tbody>\n",
       "    <tr>\n",
       "      <th>Cost of Goods Sold</th>\n",
       "      <td>35042</td>\n",
       "      <td>5354</td>\n",
       "    </tr>\n",
       "    <tr>\n",
       "      <th>Current Assets</th>\n",
       "      <td>11110</td>\n",
       "      <td>11942</td>\n",
       "    </tr>\n",
       "    <tr>\n",
       "      <th>Current Liabilities</th>\n",
       "      <td>20090</td>\n",
       "      <td>16388</td>\n",
       "    </tr>\n",
       "    <tr>\n",
       "      <th>Long Term Assets</th>\n",
       "      <td>12418</td>\n",
       "      <td>13975</td>\n",
       "    </tr>\n",
       "    <tr>\n",
       "      <th>Long Term Liabilities</th>\n",
       "      <td>4202</td>\n",
       "      <td>10780</td>\n",
       "    </tr>\n",
       "    <tr>\n",
       "      <th>Other Expense</th>\n",
       "      <td>187954</td>\n",
       "      <td>24498</td>\n",
       "    </tr>\n",
       "    <tr>\n",
       "      <th>Revenue</th>\n",
       "      <td>20020</td>\n",
       "      <td>15312</td>\n",
       "    </tr>\n",
       "    <tr>\n",
       "      <th>Shareholder's Equity</th>\n",
       "      <td>18030</td>\n",
       "      <td>13563</td>\n",
       "    </tr>\n",
       "  </tbody>\n",
       "</table>\n",
       "</div>"
      ],
      "text/plain": [
       "                       acct_num  acct_balance\n",
       "acct_type                                    \n",
       "Cost of Goods Sold        35042          5354\n",
       "Current Assets            11110         11942\n",
       "Current Liabilities       20090         16388\n",
       "Long Term Assets          12418         13975\n",
       "Long Term Liabilities      4202         10780\n",
       "Other Expense            187954         24498\n",
       "Revenue                   20020         15312\n",
       "Shareholder's Equity      18030         13563"
      ]
     },
     "execution_count": 25,
     "metadata": {},
     "output_type": "execute_result"
    }
   ],
   "source": [
    "trial_balance.groupby(\"acct_type\").sum()"
   ]
  },
  {
   "cell_type": "code",
   "execution_count": 26,
   "id": "7b7402b4",
   "metadata": {},
   "outputs": [],
   "source": [
    "# We may want to remove the \"acct_num\" column since summing the account numbers doesn't add any value and might confuse a reader."
   ]
  },
  {
   "cell_type": "markdown",
   "id": "054c62f4",
   "metadata": {},
   "source": [
    "# Markdown prints"
   ]
  },
  {
   "cell_type": "code",
   "execution_count": 27,
   "id": "b598e84a",
   "metadata": {},
   "outputs": [],
   "source": [
    "from tabulate import tabulate"
   ]
  },
  {
   "cell_type": "code",
   "execution_count": 28,
   "id": "49ff0e8e",
   "metadata": {},
   "outputs": [
    {
     "name": "stdout",
     "output_type": "stream",
     "text": [
      "| acct_type             |   acct_num |   acct_balance |\n",
      "|:----------------------|-----------:|---------------:|\n",
      "| Cost of Goods Sold    |      35042 |           5354 |\n",
      "| Current Assets        |      11110 |          11942 |\n",
      "| Current Liabilities   |      20090 |          16388 |\n",
      "| Long Term Assets      |      12418 |          13975 |\n",
      "| Long Term Liabilities |       4202 |          10780 |\n",
      "| Other Expense         |     187954 |          24498 |\n",
      "| Revenue               |      20020 |          15312 |\n",
      "| Shareholder's Equity  |      18030 |          13563 |\n"
     ]
    }
   ],
   "source": [
    "print(tabulate(trial_balance.groupby(\"acct_type\").sum(), tablefmt=\"pipe\", headers=\"keys\"))"
   ]
  },
  {
   "cell_type": "code",
   "execution_count": 29,
   "id": "31207937",
   "metadata": {},
   "outputs": [
    {
     "name": "stdout",
     "output_type": "stream",
     "text": [
      "|    |   acct_num | acct_type      | acct_name                     |   acct_balance |\n",
      "|---:|-----------:|:---------------|:------------------------------|---------------:|\n",
      "|  0 |       1000 | Current Assets | Accounts Receivable - 30 Days |           1111 |\n",
      "|  1 |       1002 | Current Assets | Short Term Investments        |           1226 |\n",
      "|  2 |       1004 | Current Assets | Inventory                     |           1785 |\n",
      "|  3 |       1006 | Current Assets | Accounts Receviable - 90 Days |           1800 |\n",
      "|  4 |       1008 | Current Assets | High Interest Cash Account    |            786 |\n"
     ]
    }
   ],
   "source": [
    "print(tabulate(trial_balance.head(), tablefmt=\"pipe\", headers=\"keys\"))"
   ]
  },
  {
   "cell_type": "code",
   "execution_count": null,
   "id": "28ec836a",
   "metadata": {},
   "outputs": [],
   "source": []
  }
 ],
 "metadata": {
  "kernelspec": {
   "display_name": "Python 3 (ipykernel)",
   "language": "python",
   "name": "python3"
  },
  "language_info": {
   "codemirror_mode": {
    "name": "ipython",
    "version": 3
   },
   "file_extension": ".py",
   "mimetype": "text/x-python",
   "name": "python",
   "nbconvert_exporter": "python",
   "pygments_lexer": "ipython3",
   "version": "3.8.6"
  },
  "toc": {
   "base_numbering": 1,
   "nav_menu": {},
   "number_sections": true,
   "sideBar": true,
   "skip_h1_title": false,
   "title_cell": "Table of Contents",
   "title_sidebar": "Contents",
   "toc_cell": false,
   "toc_position": {},
   "toc_section_display": true,
   "toc_window_display": false
  }
 },
 "nbformat": 4,
 "nbformat_minor": 5
}
